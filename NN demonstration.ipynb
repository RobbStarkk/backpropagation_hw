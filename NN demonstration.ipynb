{
 "cells": [
  {
   "cell_type": "code",
   "execution_count": 1,
   "id": "cb3ae2fa",
   "metadata": {},
   "outputs": [],
   "source": [
    "import numpy as np\n",
    "import pandas as pd\n",
    "\n",
    "from sklearn.model_selection import train_test_split"
   ]
  },
  {
   "cell_type": "markdown",
   "id": "9a7f4cab",
   "metadata": {},
   "source": [
    "# Load Data"
   ]
  },
  {
   "cell_type": "code",
   "execution_count": 2,
   "id": "44e7b73d",
   "metadata": {},
   "outputs": [],
   "source": [
    "data = pd.read_csv('ypred.csv')"
   ]
  },
  {
   "cell_type": "code",
   "execution_count": 3,
   "id": "6686cfe9",
   "metadata": {},
   "outputs": [
    {
     "data": {
      "text/html": [
       "<div>\n",
       "<style scoped>\n",
       "    .dataframe tbody tr th:only-of-type {\n",
       "        vertical-align: middle;\n",
       "    }\n",
       "\n",
       "    .dataframe tbody tr th {\n",
       "        vertical-align: top;\n",
       "    }\n",
       "\n",
       "    .dataframe thead th {\n",
       "        text-align: right;\n",
       "    }\n",
       "</style>\n",
       "<table border=\"1\" class=\"dataframe\">\n",
       "  <thead>\n",
       "    <tr style=\"text-align: right;\">\n",
       "      <th></th>\n",
       "      <th>Country Code</th>\n",
       "      <th>Txn Code</th>\n",
       "      <th>Qtr</th>\n",
       "      <th>Year</th>\n",
       "      <th>Date</th>\n",
       "      <th>Volume</th>\n",
       "    </tr>\n",
       "  </thead>\n",
       "  <tbody>\n",
       "    <tr>\n",
       "      <th>0</th>\n",
       "      <td>1</td>\n",
       "      <td>1</td>\n",
       "      <td>1</td>\n",
       "      <td>2017</td>\n",
       "      <td>1</td>\n",
       "      <td>6051</td>\n",
       "    </tr>\n",
       "    <tr>\n",
       "      <th>1</th>\n",
       "      <td>2</td>\n",
       "      <td>2</td>\n",
       "      <td>2</td>\n",
       "      <td>2017</td>\n",
       "      <td>2</td>\n",
       "      <td>12102</td>\n",
       "    </tr>\n",
       "    <tr>\n",
       "      <th>2</th>\n",
       "      <td>3</td>\n",
       "      <td>3</td>\n",
       "      <td>3</td>\n",
       "      <td>2017</td>\n",
       "      <td>3</td>\n",
       "      <td>18153</td>\n",
       "    </tr>\n",
       "    <tr>\n",
       "      <th>3</th>\n",
       "      <td>4</td>\n",
       "      <td>4</td>\n",
       "      <td>4</td>\n",
       "      <td>2017</td>\n",
       "      <td>4</td>\n",
       "      <td>24204</td>\n",
       "    </tr>\n",
       "    <tr>\n",
       "      <th>4</th>\n",
       "      <td>5</td>\n",
       "      <td>5</td>\n",
       "      <td>1</td>\n",
       "      <td>2017</td>\n",
       "      <td>5</td>\n",
       "      <td>22187</td>\n",
       "    </tr>\n",
       "  </tbody>\n",
       "</table>\n",
       "</div>"
      ],
      "text/plain": [
       "   Country Code  Txn Code  Qtr  Year  Date  Volume\n",
       "0             1         1    1  2017     1    6051\n",
       "1             2         2    2  2017     2   12102\n",
       "2             3         3    3  2017     3   18153\n",
       "3             4         4    4  2017     4   24204\n",
       "4             5         5    1  2017     5   22187"
      ]
     },
     "execution_count": 3,
     "metadata": {},
     "output_type": "execute_result"
    }
   ],
   "source": [
    "data.head(5)"
   ]
  },
  {
   "cell_type": "markdown",
   "id": "279444d4",
   "metadata": {},
   "source": [
    "# Preprocessing"
   ]
  },
  {
   "cell_type": "code",
   "execution_count": 4,
   "id": "56fd2e21",
   "metadata": {},
   "outputs": [],
   "source": [
    "data = pd.get_dummies(data, columns=['Year'])"
   ]
  },
  {
   "cell_type": "code",
   "execution_count": 5,
   "id": "2b9e5f08",
   "metadata": {},
   "outputs": [
    {
     "data": {
      "text/html": [
       "<div>\n",
       "<style scoped>\n",
       "    .dataframe tbody tr th:only-of-type {\n",
       "        vertical-align: middle;\n",
       "    }\n",
       "\n",
       "    .dataframe tbody tr th {\n",
       "        vertical-align: top;\n",
       "    }\n",
       "\n",
       "    .dataframe thead th {\n",
       "        text-align: right;\n",
       "    }\n",
       "</style>\n",
       "<table border=\"1\" class=\"dataframe\">\n",
       "  <thead>\n",
       "    <tr style=\"text-align: right;\">\n",
       "      <th></th>\n",
       "      <th>Country Code</th>\n",
       "      <th>Txn Code</th>\n",
       "      <th>Qtr</th>\n",
       "      <th>Date</th>\n",
       "      <th>Volume</th>\n",
       "      <th>Year_2017</th>\n",
       "      <th>Year_2018</th>\n",
       "    </tr>\n",
       "  </thead>\n",
       "  <tbody>\n",
       "    <tr>\n",
       "      <th>0</th>\n",
       "      <td>1</td>\n",
       "      <td>1</td>\n",
       "      <td>1</td>\n",
       "      <td>1</td>\n",
       "      <td>6051</td>\n",
       "      <td>1</td>\n",
       "      <td>0</td>\n",
       "    </tr>\n",
       "    <tr>\n",
       "      <th>1</th>\n",
       "      <td>2</td>\n",
       "      <td>2</td>\n",
       "      <td>2</td>\n",
       "      <td>2</td>\n",
       "      <td>12102</td>\n",
       "      <td>1</td>\n",
       "      <td>0</td>\n",
       "    </tr>\n",
       "    <tr>\n",
       "      <th>2</th>\n",
       "      <td>3</td>\n",
       "      <td>3</td>\n",
       "      <td>3</td>\n",
       "      <td>3</td>\n",
       "      <td>18153</td>\n",
       "      <td>1</td>\n",
       "      <td>0</td>\n",
       "    </tr>\n",
       "    <tr>\n",
       "      <th>3</th>\n",
       "      <td>4</td>\n",
       "      <td>4</td>\n",
       "      <td>4</td>\n",
       "      <td>4</td>\n",
       "      <td>24204</td>\n",
       "      <td>1</td>\n",
       "      <td>0</td>\n",
       "    </tr>\n",
       "    <tr>\n",
       "      <th>4</th>\n",
       "      <td>5</td>\n",
       "      <td>5</td>\n",
       "      <td>1</td>\n",
       "      <td>5</td>\n",
       "      <td>22187</td>\n",
       "      <td>1</td>\n",
       "      <td>0</td>\n",
       "    </tr>\n",
       "  </tbody>\n",
       "</table>\n",
       "</div>"
      ],
      "text/plain": [
       "   Country Code  Txn Code  Qtr  Date  Volume  Year_2017  Year_2018\n",
       "0             1         1    1     1    6051          1          0\n",
       "1             2         2    2     2   12102          1          0\n",
       "2             3         3    3     3   18153          1          0\n",
       "3             4         4    4     4   24204          1          0\n",
       "4             5         5    1     5   22187          1          0"
      ]
     },
     "execution_count": 5,
     "metadata": {},
     "output_type": "execute_result"
    }
   ],
   "source": [
    "data.head()"
   ]
  },
  {
   "cell_type": "code",
   "execution_count": 6,
   "id": "633e724e",
   "metadata": {},
   "outputs": [],
   "source": [
    "data['Country Code'] = (data['Country Code']-data['Country Code'].min()) / (data['Country Code'].max()-\n",
    "                                                                            data['Country Code'].min())\n",
    "data['Txn Code'] = (data['Txn Code']-data['Txn Code'].min()) / (data['Txn Code'].max()-data['Txn Code'].min())\n",
    "data['Qtr'] = (data['Qtr']-data['Qtr'].min()) / (data['Qtr'].max()-data['Qtr'].min())\n",
    "data['Date'] = (data['Date']-data['Date'].min()) / (data['Date'].max()-data['Date'].min())"
   ]
  },
  {
   "cell_type": "code",
   "execution_count": 7,
   "id": "052d45e8",
   "metadata": {},
   "outputs": [
    {
     "data": {
      "text/html": [
       "<div>\n",
       "<style scoped>\n",
       "    .dataframe tbody tr th:only-of-type {\n",
       "        vertical-align: middle;\n",
       "    }\n",
       "\n",
       "    .dataframe tbody tr th {\n",
       "        vertical-align: top;\n",
       "    }\n",
       "\n",
       "    .dataframe thead th {\n",
       "        text-align: right;\n",
       "    }\n",
       "</style>\n",
       "<table border=\"1\" class=\"dataframe\">\n",
       "  <thead>\n",
       "    <tr style=\"text-align: right;\">\n",
       "      <th></th>\n",
       "      <th>Country Code</th>\n",
       "      <th>Txn Code</th>\n",
       "      <th>Qtr</th>\n",
       "      <th>Date</th>\n",
       "      <th>Volume</th>\n",
       "      <th>Year_2017</th>\n",
       "      <th>Year_2018</th>\n",
       "    </tr>\n",
       "  </thead>\n",
       "  <tbody>\n",
       "    <tr>\n",
       "      <th>0</th>\n",
       "      <td>0.00</td>\n",
       "      <td>0.00</td>\n",
       "      <td>0.000000</td>\n",
       "      <td>0.000000</td>\n",
       "      <td>6051</td>\n",
       "      <td>1</td>\n",
       "      <td>0</td>\n",
       "    </tr>\n",
       "    <tr>\n",
       "      <th>1</th>\n",
       "      <td>0.25</td>\n",
       "      <td>0.25</td>\n",
       "      <td>0.333333</td>\n",
       "      <td>0.034483</td>\n",
       "      <td>12102</td>\n",
       "      <td>1</td>\n",
       "      <td>0</td>\n",
       "    </tr>\n",
       "    <tr>\n",
       "      <th>2</th>\n",
       "      <td>0.50</td>\n",
       "      <td>0.50</td>\n",
       "      <td>0.666667</td>\n",
       "      <td>0.068966</td>\n",
       "      <td>18153</td>\n",
       "      <td>1</td>\n",
       "      <td>0</td>\n",
       "    </tr>\n",
       "    <tr>\n",
       "      <th>3</th>\n",
       "      <td>0.75</td>\n",
       "      <td>0.75</td>\n",
       "      <td>1.000000</td>\n",
       "      <td>0.103448</td>\n",
       "      <td>24204</td>\n",
       "      <td>1</td>\n",
       "      <td>0</td>\n",
       "    </tr>\n",
       "    <tr>\n",
       "      <th>4</th>\n",
       "      <td>1.00</td>\n",
       "      <td>1.00</td>\n",
       "      <td>0.000000</td>\n",
       "      <td>0.137931</td>\n",
       "      <td>22187</td>\n",
       "      <td>1</td>\n",
       "      <td>0</td>\n",
       "    </tr>\n",
       "  </tbody>\n",
       "</table>\n",
       "</div>"
      ],
      "text/plain": [
       "   Country Code  Txn Code       Qtr      Date  Volume  Year_2017  Year_2018\n",
       "0          0.00      0.00  0.000000  0.000000    6051          1          0\n",
       "1          0.25      0.25  0.333333  0.034483   12102          1          0\n",
       "2          0.50      0.50  0.666667  0.068966   18153          1          0\n",
       "3          0.75      0.75  1.000000  0.103448   24204          1          0\n",
       "4          1.00      1.00  0.000000  0.137931   22187          1          0"
      ]
     },
     "execution_count": 7,
     "metadata": {},
     "output_type": "execute_result"
    }
   ],
   "source": [
    "data.head()"
   ]
  },
  {
   "cell_type": "code",
   "execution_count": 8,
   "id": "d816884a",
   "metadata": {},
   "outputs": [],
   "source": [
    "data['log_Volume'] = np.log(data['Volume'])"
   ]
  },
  {
   "cell_type": "code",
   "execution_count": 9,
   "id": "4b94b152",
   "metadata": {},
   "outputs": [],
   "source": [
    "data = data.sample(n=len(data), random_state=42)"
   ]
  },
  {
   "cell_type": "code",
   "execution_count": 10,
   "id": "1c2adc67",
   "metadata": {},
   "outputs": [
    {
     "data": {
      "text/html": [
       "<div>\n",
       "<style scoped>\n",
       "    .dataframe tbody tr th:only-of-type {\n",
       "        vertical-align: middle;\n",
       "    }\n",
       "\n",
       "    .dataframe tbody tr th {\n",
       "        vertical-align: top;\n",
       "    }\n",
       "\n",
       "    .dataframe thead th {\n",
       "        text-align: right;\n",
       "    }\n",
       "</style>\n",
       "<table border=\"1\" class=\"dataframe\">\n",
       "  <thead>\n",
       "    <tr style=\"text-align: right;\">\n",
       "      <th></th>\n",
       "      <th>Country Code</th>\n",
       "      <th>Txn Code</th>\n",
       "      <th>Qtr</th>\n",
       "      <th>Date</th>\n",
       "      <th>Volume</th>\n",
       "      <th>Year_2017</th>\n",
       "      <th>Year_2018</th>\n",
       "      <th>log_Volume</th>\n",
       "    </tr>\n",
       "  </thead>\n",
       "  <tbody>\n",
       "    <tr>\n",
       "      <th>521</th>\n",
       "      <td>0.25</td>\n",
       "      <td>0.25</td>\n",
       "      <td>0.666667</td>\n",
       "      <td>0.379310</td>\n",
       "      <td>14126</td>\n",
       "      <td>0</td>\n",
       "      <td>1</td>\n",
       "      <td>9.555772</td>\n",
       "    </tr>\n",
       "    <tr>\n",
       "      <th>941</th>\n",
       "      <td>0.25</td>\n",
       "      <td>0.25</td>\n",
       "      <td>0.000000</td>\n",
       "      <td>0.379310</td>\n",
       "      <td>10090</td>\n",
       "      <td>0</td>\n",
       "      <td>1</td>\n",
       "      <td>9.219300</td>\n",
       "    </tr>\n",
       "    <tr>\n",
       "      <th>741</th>\n",
       "      <td>0.25</td>\n",
       "      <td>0.25</td>\n",
       "      <td>1.000000</td>\n",
       "      <td>0.724138</td>\n",
       "      <td>16144</td>\n",
       "      <td>0</td>\n",
       "      <td>1</td>\n",
       "      <td>9.689304</td>\n",
       "    </tr>\n",
       "    <tr>\n",
       "      <th>980</th>\n",
       "      <td>0.00</td>\n",
       "      <td>0.00</td>\n",
       "      <td>1.000000</td>\n",
       "      <td>0.689655</td>\n",
       "      <td>12108</td>\n",
       "      <td>0</td>\n",
       "      <td>1</td>\n",
       "      <td>9.401622</td>\n",
       "    </tr>\n",
       "    <tr>\n",
       "      <th>411</th>\n",
       "      <td>0.25</td>\n",
       "      <td>0.25</td>\n",
       "      <td>0.000000</td>\n",
       "      <td>0.724138</td>\n",
       "      <td>10085</td>\n",
       "      <td>1</td>\n",
       "      <td>0</td>\n",
       "      <td>9.218804</td>\n",
       "    </tr>\n",
       "  </tbody>\n",
       "</table>\n",
       "</div>"
      ],
      "text/plain": [
       "     Country Code  Txn Code       Qtr      Date  Volume  Year_2017  Year_2018  \\\n",
       "521          0.25      0.25  0.666667  0.379310   14126          0          1   \n",
       "941          0.25      0.25  0.000000  0.379310   10090          0          1   \n",
       "741          0.25      0.25  1.000000  0.724138   16144          0          1   \n",
       "980          0.00      0.00  1.000000  0.689655   12108          0          1   \n",
       "411          0.25      0.25  0.000000  0.724138   10085          1          0   \n",
       "\n",
       "     log_Volume  \n",
       "521    9.555772  \n",
       "941    9.219300  \n",
       "741    9.689304  \n",
       "980    9.401622  \n",
       "411    9.218804  "
      ]
     },
     "execution_count": 10,
     "metadata": {},
     "output_type": "execute_result"
    }
   ],
   "source": [
    "data.head()"
   ]
  },
  {
   "cell_type": "markdown",
   "id": "c891de30",
   "metadata": {},
   "source": [
    "# Train test split"
   ]
  },
  {
   "cell_type": "code",
   "execution_count": 11,
   "id": "72cd560c",
   "metadata": {},
   "outputs": [],
   "source": [
    "X_train = data[['Country Code', 'Txn Code', 'Qtr', 'Date', 'Year_2017', 'Year_2018']].to_numpy()"
   ]
  },
  {
   "cell_type": "code",
   "execution_count": 12,
   "id": "05e3caa9",
   "metadata": {},
   "outputs": [],
   "source": [
    "y_train = data['log_Volume'].to_numpy()"
   ]
  },
  {
   "cell_type": "code",
   "execution_count": 13,
   "id": "a9229075",
   "metadata": {},
   "outputs": [],
   "source": [
    "X_train, X_val, y_train, y_val = train_test_split(X_train, y_train, test_size=0.2, random_state=42)"
   ]
  },
  {
   "cell_type": "markdown",
   "id": "90da9590",
   "metadata": {},
   "source": [
    "# Model"
   ]
  },
  {
   "cell_type": "code",
   "execution_count": 14,
   "id": "bd78e857",
   "metadata": {},
   "outputs": [],
   "source": [
    "from MLP import MLP"
   ]
  },
  {
   "cell_type": "code",
   "execution_count": 15,
   "id": "1653cd43",
   "metadata": {},
   "outputs": [],
   "source": [
    "def err(y_tr, y_pr):\n",
    "    return (y_tr - y_pr) ** 2"
   ]
  },
  {
   "cell_type": "code",
   "execution_count": 16,
   "id": "dd44f3d9",
   "metadata": {},
   "outputs": [
    {
     "name": "stdout",
     "output_type": "stream",
     "text": [
      "EPOCH 1, train loss = 0.10898, val loss = 0.11032\n",
      "EPOCH 2, train loss = 0.099941, val loss = 0.1013\n",
      "EPOCH 3, train loss = 0.089379, val loss = 0.090828\n",
      "EPOCH 4, train loss = 0.077485, val loss = 0.079082\n",
      "EPOCH 5, train loss = 0.064762, val loss = 0.066543\n",
      "EPOCH 6, train loss = 0.051983, val loss = 0.053934\n",
      "EPOCH 7, train loss = 0.040026, val loss = 0.042085\n",
      "EPOCH 8, train loss = 0.029669, val loss = 0.031745\n",
      "EPOCH 9, train loss = 0.021392, val loss = 0.023395\n",
      "EPOCH 10, train loss = 0.015273, val loss = 0.01713\n",
      "EPOCH 11, train loss = 0.011016, val loss = 0.012685\n",
      "EPOCH 12, train loss = 0.0081418, val loss = 0.0096069\n",
      "EPOCH 13, train loss = 0.0061894, val loss = 0.0074545\n",
      "EPOCH 14, train loss = 0.0048231, val loss = 0.0059047\n",
      "EPOCH 15, train loss = 0.0038323, val loss = 0.0047524\n",
      "EPOCH 16, train loss = 0.0030927, val loss = 0.003874\n",
      "EPOCH 17, train loss = 0.0025293, val loss = 0.0031934\n",
      "EPOCH 18, train loss = 0.0020948, val loss = 0.0026605\n",
      "EPOCH 19, train loss = 0.0017569, val loss = 0.0022405\n",
      "EPOCH 20, train loss = 0.0014927, val loss = 0.0019076\n",
      "EPOCH 21, train loss = 0.0012848, val loss = 0.0016425\n",
      "EPOCH 22, train loss = 0.0011205, val loss = 0.0014303\n",
      "EPOCH 23, train loss = 0.00098993, val loss = 0.0012596\n",
      "EPOCH 24, train loss = 0.00088557, val loss = 0.0011215\n",
      "EPOCH 25, train loss = 0.00080167, val loss = 0.0010092\n",
      "EPOCH 26, train loss = 0.00073381, val loss = 0.00091742\n",
      "EPOCH 27, train loss = 0.0006786, val loss = 0.00084192\n",
      "EPOCH 28, train loss = 0.00063342, val loss = 0.00077952\n",
      "EPOCH 29, train loss = 0.00059624, val loss = 0.00072768\n",
      "EPOCH 30, train loss = 0.00056548, val loss = 0.0006844\n",
      "EPOCH 31, train loss = 0.0005399, val loss = 0.00064812\n",
      "EPOCH 32, train loss = 0.00051854, val loss = 0.00061757\n",
      "EPOCH 33, train loss = 0.00050063, val loss = 0.00059175\n",
      "EPOCH 34, train loss = 0.00048556, val loss = 0.00056985\n",
      "EPOCH 35, train loss = 0.00047282, val loss = 0.00055121\n",
      "EPOCH 36, train loss = 0.00046204, val loss = 0.0005353\n",
      "EPOCH 37, train loss = 0.00045287, val loss = 0.00052167\n",
      "EPOCH 38, train loss = 0.00044506, val loss = 0.00050997\n",
      "EPOCH 39, train loss = 0.00043839, val loss = 0.0004999\n",
      "EPOCH 40, train loss = 0.00043268, val loss = 0.00049121\n",
      "EPOCH 41, train loss = 0.00042778, val loss = 0.00048369\n",
      "EPOCH 42, train loss = 0.00042357, val loss = 0.00047716\n",
      "EPOCH 43, train loss = 0.00041994, val loss = 0.00047149\n",
      "EPOCH 44, train loss = 0.00041681, val loss = 0.00046654\n",
      "EPOCH 45, train loss = 0.0004141, val loss = 0.00046221\n",
      "EPOCH 46, train loss = 0.00041174, val loss = 0.00045841\n",
      "EPOCH 47, train loss = 0.0004097, val loss = 0.00045508\n",
      "EPOCH 48, train loss = 0.00040791, val loss = 0.00045213\n",
      "EPOCH 49, train loss = 0.00040635, val loss = 0.00044953\n",
      "EPOCH 50, train loss = 0.00040498, val loss = 0.00044722\n"
     ]
    }
   ],
   "source": [
    "net = MLP(6, 2, [10, 10])\n",
    "\n",
    "lr = 0.01\n",
    "N_train = len(y_train)\n",
    "N_val = len(y_val)\n",
    "\n",
    "train_epochs_loss = []\n",
    "val_epochs_loss = []\n",
    "for E in range(50):\n",
    "    mean_err_train = []\n",
    "    mean_err_val = []\n",
    "    for obs, y_true in zip(X_train, y_train):\n",
    "        y_pred, gh = net.forward(obs, mode='train')\n",
    "        net.backprop(y_true, y_pred, gradient=gh['gradient'], hidden_states=gh['hidden_states'], lr=lr)\n",
    "    \n",
    "    for obs, y_true in zip(X_train, y_train):\n",
    "        y_pred = net.forward(obs, mode='eval')\n",
    "        mean_err_train.append(err(y_true, y_pred) / N_train)\n",
    "        \n",
    "    for obs, y_true in zip(X_val, y_val):\n",
    "        y_pred = net.forward(obs, mode='eval')\n",
    "        mean_err_val.append(err(y_true, y_pred) / N_val)\n",
    "    if E % 1 == 0:\n",
    "        print(f\"EPOCH {E+1}, train loss = {np.sum(mean_err_train):.5}, val loss = {np.sum(mean_err_val):.5}\")\n",
    "    train_epochs_loss.append(np.sum(mean_err_train))\n",
    "    val_epochs_loss.append(np.sum(mean_err_val))"
   ]
  },
  {
   "cell_type": "markdown",
   "id": "d3c15702",
   "metadata": {},
   "source": [
    "# Loss curve"
   ]
  },
  {
   "cell_type": "code",
   "execution_count": 17,
   "id": "3b11d27e",
   "metadata": {},
   "outputs": [],
   "source": [
    "import matplotlib.pyplot as plt\n",
    "plt.style.use('ggplot')"
   ]
  },
  {
   "cell_type": "code",
   "execution_count": 18,
   "id": "60497688",
   "metadata": {},
   "outputs": [
    {
     "data": {
      "image/png": "[encoded data removed]",
      "text/plain": [
       "<Figure size 720x576 with 1 Axes>"
      ]
     },
     "metadata": {},
     "output_type": "display_data"
    }
   ],
   "source": [
    "plt.figure(figsize=(10, 8))\n",
    "plt.plot(np.log(train_epochs_loss))\n",
    "plt.plot(np.log(val_epochs_loss))\n",
    "plt.legend(['train', 'valid'])\n",
    "plt.ylabel('log(MSE)')\n",
    "plt.xlabel('Epoch')\n",
    "plt.show()"
   ]
  },
  {
   "cell_type": "code",
   "execution_count": 19,
   "id": "3dcae23d",
   "metadata": {
    "scrolled": false
   },
   "outputs": [
    {
     "name": "stdout",
     "output_type": "stream",
     "text": [
      "real - 16144 pred - 16237.58\n",
      "real - 12108 pred - 12068.82\n",
      "real - 12108 pred - 12025.58\n",
      "real - 16144 pred - 16445.43\n",
      "real - 10090 pred - 9797.03\n",
      "real - 12108 pred - 11895.46\n",
      "real - 16144 pred - 16445.43\n",
      "real - 12102 pred - 11902.41\n",
      "real - 18153 pred - 18516.00\n",
      "real - 6051 pred - 6330.70\n",
      "real - 20180 pred - 20388.19\n",
      "real - 24216 pred - 24307.47\n",
      "real - 20180 pred - 20664.00\n",
      "real - 20170 pred - 20750.60\n",
      "real - 22187 pred - 22563.67\n",
      "real - 14126 pred - 13913.93\n",
      "real - 22198 pred - 22477.94\n",
      "real - 20170 pred - 20729.00\n",
      "real - 22187 pred - 22082.01\n",
      "real - 16136 pred - 16274.74\n",
      "real - 14119 pred - 14157.10\n",
      "real - 16136 pred - 16419.96\n",
      "real - 10090 pred - 9809.62\n",
      "real - 24204 pred - 24379.61\n",
      "real - 8068 pred - 8018.76\n",
      "real - 16136 pred - 16460.40\n",
      "real - 10085 pred - 9728.83\n",
      "real - 24204 pred - 24434.76\n",
      "real - 26221 pred - 25892.16\n",
      "real - 22187 pred - 22579.43\n",
      "real - 18162 pred - 18504.43\n",
      "real - 14119 pred - 13922.37\n",
      "real - 16136 pred - 16275.51\n",
      "real - 22198 pred - 22474.27\n",
      "real - 24204 pred - 24180.26\n",
      "real - 20180 pred - 20671.42\n",
      "real - 10090 pred - 9896.44\n",
      "real - 28252 pred - 27252.60\n",
      "real - 24204 pred - 24342.21\n",
      "real - 14126 pred - 14134.31\n",
      "real - 10090 pred - 9992.67\n",
      "real - 22198 pred - 21931.65\n",
      "real - 14126 pred - 13922.87\n",
      "real - 22187 pred - 22549.86\n",
      "real - 12102 pred - 12006.68\n",
      "real - 26234 pred - 25667.98\n",
      "real - 14119 pred - 13922.73\n",
      "real - 20170 pred - 20729.00\n",
      "real - 14126 pred - 14096.22\n",
      "real - 10090 pred - 9966.10\n"
     ]
    }
   ],
   "source": [
    "for obs, y_true in zip(X_val[:50], y_val[:50]):\n",
    "    y_pred = net.forward(obs, mode='eval')\n",
    "    print(f'real - {round(np.exp(y_true))}', f'pred - {np.exp(y_pred):.2f}')"
   ]
  },
  {
   "cell_type": "code",
   "execution_count": 20,
   "id": "b7368e97",
   "metadata": {},
   "outputs": [
    {
     "name": "stdout",
     "output_type": "stream",
     "text": [
      "hidden layer 1\n",
      "[[ 0.6286064   1.09012007  0.99499228  0.6952444   0.27759528  0.4200568\n",
      "   0.48847845  1.10627878  0.69146272  1.00449386]\n",
      " [ 0.27465078  1.10931562  1.09544098  0.30892502  0.3034016   0.44746679\n",
      "   0.73463708  0.76485906  0.52229273  0.58765042]\n",
      " [ 0.77714099  0.27965573  0.59688117  0.34040402  0.43455912  0.94690933\n",
      "   0.58718684  0.82715389  0.6447661   0.33701971]\n",
      " [ 0.37767981 -0.16568662 -0.30354027  0.8091446   0.86034138  0.48574702\n",
      "   0.08854557 -0.22713517  0.51444162  0.17725046]\n",
      " [-0.16731993  0.09478764 -0.42832214  0.79460339  0.18950274  0.26330749\n",
      "  -0.01222123  0.04253041  0.34739554 -0.1609249 ]\n",
      " [ 0.58471161  0.21829008  0.20867862  0.72270333  0.49008445  0.38514427\n",
      "  -0.39730771 -0.45099358 -0.2460114  -0.20474167]]\n",
      "hidden layer 2\n",
      "[[ 0.03971051 -0.05112851  0.55749732  0.05639506  0.18909786  0.19853381\n",
      "  -0.03846885  0.63061172 -0.13839607  0.60378933]\n",
      " [ 0.47204151  0.04767322 -0.15751605  0.63289747  0.62908105  0.57844445\n",
      "   0.61726817 -0.07085842  0.2974189  -0.12887622]\n",
      " [ 0.61838754  0.55788948  0.2281892  -0.05195532  0.24188102  0.27642933\n",
      "   0.59452184  0.51208584  0.90018033  0.32759261]\n",
      " [-0.34144326  0.21400287  0.36766233  0.12339189  0.66132613 -0.05751456\n",
      "   0.30457988  0.21661592 -0.3370951  -0.4780065 ]\n",
      " [-0.35674447  0.23585038 -0.00756499  0.15104713  0.81049814 -0.18853542\n",
      "   0.21886716  0.57116069 -0.05468488 -0.39149803]\n",
      " [-0.09228402 -0.21297493  0.61764966  0.46578526  0.53285639  0.46613039\n",
      "   0.6082639  -0.0016035   0.634276    0.10176031]\n",
      " [ 0.56944168  0.76272507  0.16899462 -0.04549545  0.1589423   0.29247818\n",
      "   0.68516511  0.73408281 -0.05870709  0.32341536]\n",
      " [ 0.22811551  0.26139821  0.07606446  0.29822507  0.88038678  0.38774182\n",
      "   0.39971959  0.59236546  0.45623221  0.93747153]\n",
      " [ 0.68416506  0.10228446  0.33177495  0.12373607  0.20580752 -0.11700233\n",
      "   0.45616379  0.35699735 -0.01939093  0.05493436]\n",
      " [ 0.65463504  0.11942443  0.00767141  0.33898901  0.91561589  0.12381365\n",
      "   0.5352277   0.63254834  0.19209547  0.53508722]]\n",
      "output layer\n",
      "[[1.17175159]\n",
      " [1.55236169]\n",
      " [1.29171488]\n",
      " [1.32451325]\n",
      " [0.34226772]\n",
      " [1.7498462 ]\n",
      " [0.68549631]\n",
      " [0.61184574]\n",
      " [1.21788418]\n",
      " [1.67441423]]\n"
     ]
    }
   ],
   "source": [
    "net.get_layers()"
   ]
  },
  {
   "cell_type": "code",
   "execution_count": null,
   "id": "dcc48f1e",
   "metadata": {},
   "outputs": [],
   "source": []
  }
 ],
 "metadata": {
  "kernelspec": {
   "display_name": "Python 3 (ipykernel)",
   "language": "python",
   "name": "python3"
  },
  "language_info": {
   "codemirror_mode": {
    "name": "ipython",
    "version": 3
   },
   "file_extension": ".py",
   "mimetype": "text/x-python",
   "name": "python",
   "nbconvert_exporter": "python",
   "pygments_lexer": "ipython3",
   "version": "3.9.8"
  }
 },
 "nbformat": 4,
 "nbformat_minor": 5
}
